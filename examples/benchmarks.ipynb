{
 "cells": [
  {
   "cell_type": "code",
   "execution_count": 11,
   "metadata": {},
   "outputs": [],
   "source": [
    "import numpy as np\n",
    "import time\n",
    "import pandas as pd\n",
    "import matplotlib.pyplot as plt\n",
    "import microatoll_sim.simulator as sim\n",
    "import microatoll_sim.analytical_simulator as asim"
   ]
  },
  {
   "cell_type": "markdown",
   "metadata": {},
   "source": [
    "## Setup\n"
   ]
  },
  {
   "cell_type": "code",
   "execution_count": 2,
   "metadata": {},
   "outputs": [],
   "source": [
    "params = sim.SimParams(\n",
    "    vert_shift=0.4,\n",
    "    gr_mean=15,\n",
    "    d=1.0,\n",
    "    dt=0.1, # will have 1/dt = 10 bands/yr\n",
    "    T0=1980,\n",
    "    delta_T=30,\n",
    "    init_radius=0.3\n",
    ")\n",
    "\n",
    "\n",
    "sl_df = pd.read_csv(\"./data/SeaLevel.csv\", header=None, names=[\"time\", \"sl\"])\n",
    "sl_arr = sl_df.to_numpy()\n",
    "sl_arr[:, 1] += params.vert_shift\n",
    "band_sl_arr = sim.lowest_discreet(sl_arr, params.dt, params.T0, params.T0+params.delta_T)\n",
    "gr_vec = np.ones(params.NT) * params.gr_mean"
   ]
  },
  {
   "cell_type": "markdown",
   "metadata": {},
   "source": [
    "## Iterative simulator benchmarks\n"
   ]
  },
  {
   "cell_type": "code",
   "execution_count": 4,
   "metadata": {},
   "outputs": [
    {
     "name": "stdout",
     "output_type": "stream",
     "text": [
      "174 ms ± 771 µs per loop (mean ± std. dev. of 7 runs, 10 loops each)\n"
     ]
    }
   ],
   "source": [
    "%timeit sim.coral_growth_all(params.init_radius, params.num_initial_pts, params.d, gr_vec, params.NT, band_sl_arr[:, 1])"
   ]
  },
  {
   "cell_type": "code",
   "execution_count": 5,
   "metadata": {},
   "outputs": [
    {
     "name": "stdout",
     "output_type": "stream",
     "text": [
      "75 µs ± 626 ns per loop (mean ± std. dev. of 7 runs, 10,000 loops each)\n"
     ]
    }
   ],
   "source": [
    "%timeit sim.lowest_discreet(sl_arr, params.dt, params.T0, params.T0+params.delta_T)"
   ]
  },
  {
   "cell_type": "code",
   "execution_count": 6,
   "metadata": {},
   "outputs": [],
   "source": [
    "lines, living_statuses = sim.coral_growth_all(\n",
    "    params.init_radius, params.num_initial_pts, params.d, gr_vec, params.NT, band_sl_arr[:, 1]\n",
    ")\n",
    "line = lines[-1]\n",
    "living_status = living_statuses[-1]"
   ]
  },
  {
   "cell_type": "code",
   "execution_count": 8,
   "metadata": {},
   "outputs": [
    {
     "name": "stdout",
     "output_type": "stream",
     "text": [
      "33.8 µs ± 3.86 µs per loop (mean ± std. dev. of 7 runs, 10,000 loops each)\n"
     ]
    }
   ],
   "source": [
    "%timeit sim.resample(line, living_status,params.d)"
   ]
  },
  {
   "cell_type": "code",
   "execution_count": 9,
   "metadata": {},
   "outputs": [
    {
     "name": "stdout",
     "output_type": "stream",
     "text": [
      "2.51 ms ± 33.5 µs per loop (mean ± std. dev. of 7 runs, 1 loop each)\n"
     ]
    }
   ],
   "source": [
    "%timeit sim.kill_loop(line, living_status,params.gr_mean) "
   ]
  },
  {
   "cell_type": "code",
   "execution_count": 10,
   "metadata": {},
   "outputs": [
    {
     "name": "stdout",
     "output_type": "stream",
     "text": [
      "3.79 µs ± 6.85 ns per loop (mean ± std. dev. of 7 runs, 100,000 loops each)\n"
     ]
    }
   ],
   "source": [
    "%timeit sim.get_pointwise_unit_normals(line)"
   ]
  },
  {
   "cell_type": "markdown",
   "metadata": {},
   "source": [
    "## Analytical simulator benchmarks\n"
   ]
  }
 ],
 "metadata": {
  "kernelspec": {
   "display_name": "microatoll_sim",
   "language": "python",
   "name": "python3"
  },
  "language_info": {
   "codemirror_mode": {
    "name": "ipython",
    "version": 3
   },
   "file_extension": ".py",
   "mimetype": "text/x-python",
   "name": "python",
   "nbconvert_exporter": "python",
   "pygments_lexer": "ipython3",
   "version": "3.12.3"
  }
 },
 "nbformat": 4,
 "nbformat_minor": 2
}
