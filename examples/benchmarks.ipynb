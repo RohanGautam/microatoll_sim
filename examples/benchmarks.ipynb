{
 "cells": [
  {
   "cell_type": "code",
   "execution_count": 1,
   "metadata": {},
   "outputs": [],
   "source": [
    "import numpy as np\n",
    "import time\n",
    "import pandas as pd\n",
    "import matplotlib.pyplot as plt\n",
    "import microatoll_sim.simulator as sim\n",
    "import microatoll_sim.analytical_simulator as asim"
   ]
  },
  {
   "cell_type": "markdown",
   "metadata": {},
   "source": [
    "## Setup\n"
   ]
  },
  {
   "cell_type": "code",
   "execution_count": 3,
   "metadata": {},
   "outputs": [],
   "source": [
    "params = sim.SimParams(\n",
    "    vert_shift=0.4,\n",
    "    gr_mean=15,\n",
    "    d=1.0,\n",
    "    dt=0.1,  # will have 1/dt = 10 bands/yr\n",
    "    T0=1980,\n",
    "    delta_T=30,\n",
    "    init_radius=0.3,\n",
    ")\n",
    "\n",
    "\n",
    "sl_df = pd.read_csv(\"./data/SeaLevel.csv\", header=None, names=[\"time\", \"sl\"])\n",
    "sl_arr = sl_df.to_numpy()\n",
    "sl_arr[:, 1] += params.vert_shift\n",
    "band_sl_arr = sim.lowest_discreet(\n",
    "    sl_arr, params.dt, params.T0, params.T0 + params.delta_T\n",
    ")\n",
    "gr_vec = np.ones(params.NT) * params.gr_mean"
   ]
  },
  {
   "cell_type": "markdown",
   "metadata": {},
   "source": [
    "## Iterative simulator benchmarks\n"
   ]
  },
  {
   "cell_type": "code",
   "execution_count": 4,
   "metadata": {},
   "outputs": [
    {
     "name": "stdout",
     "output_type": "stream",
     "text": [
      "174 ms ± 771 µs per loop (mean ± std. dev. of 7 runs, 10 loops each)\n"
     ]
    }
   ],
   "source": [
    "%timeit sim.coral_growth_all(params.init_radius, params.num_initial_pts, params.d, gr_vec, params.NT, band_sl_arr[:, 1])"
   ]
  },
  {
   "cell_type": "code",
   "execution_count": 5,
   "metadata": {},
   "outputs": [
    {
     "name": "stdout",
     "output_type": "stream",
     "text": [
      "75 µs ± 626 ns per loop (mean ± std. dev. of 7 runs, 10,000 loops each)\n"
     ]
    }
   ],
   "source": [
    "%timeit sim.lowest_discreet(sl_arr, params.dt, params.T0, params.T0+params.delta_T)"
   ]
  },
  {
   "cell_type": "code",
   "execution_count": 6,
   "metadata": {},
   "outputs": [],
   "source": [
    "lines, living_statuses = sim.coral_growth_all(\n",
    "    params.init_radius,\n",
    "    params.num_initial_pts,\n",
    "    params.d,\n",
    "    gr_vec,\n",
    "    params.NT,\n",
    "    band_sl_arr[:, 1],\n",
    ")\n",
    "line = lines[-1]\n",
    "living_status = living_statuses[-1]"
   ]
  },
  {
   "cell_type": "code",
   "execution_count": 8,
   "metadata": {},
   "outputs": [
    {
     "name": "stdout",
     "output_type": "stream",
     "text": [
      "33.8 µs ± 3.86 µs per loop (mean ± std. dev. of 7 runs, 10,000 loops each)\n"
     ]
    }
   ],
   "source": [
    "%timeit sim.resample(line, living_status,params.d)"
   ]
  },
  {
   "cell_type": "code",
   "execution_count": 9,
   "metadata": {},
   "outputs": [
    {
     "name": "stdout",
     "output_type": "stream",
     "text": [
      "2.51 ms ± 33.5 µs per loop (mean ± std. dev. of 7 runs, 1 loop each)\n"
     ]
    }
   ],
   "source": [
    "%timeit sim.kill_loop(line, living_status,params.gr_mean) "
   ]
  },
  {
   "cell_type": "code",
   "execution_count": 10,
   "metadata": {},
   "outputs": [
    {
     "name": "stdout",
     "output_type": "stream",
     "text": [
      "3.79 µs ± 6.85 ns per loop (mean ± std. dev. of 7 runs, 100,000 loops each)\n"
     ]
    }
   ],
   "source": [
    "%timeit sim.get_pointwise_unit_normals(line)"
   ]
  },
  {
   "cell_type": "markdown",
   "metadata": {},
   "source": [
    "## Analytical simulator benchmarks\n"
   ]
  },
  {
   "cell_type": "code",
   "execution_count": null,
   "metadata": {},
   "outputs": [],
   "source": []
  },
  {
   "cell_type": "code",
   "execution_count": 7,
   "metadata": {},
   "outputs": [],
   "source": [
    "gr = 15 * 1e-3\n",
    "vert_shift = params.vert_shift\n",
    "T0 = params.T0\n",
    "delta_T = params.delta_T\n",
    "init_radius = params.init_radius\n",
    "dt = params.dt\n",
    "sl_df = pd.read_csv(\"./data/SeaLevel.csv\", header=None, names=[\"time\", \"sl\"])\n",
    "sl_arr = sl_df.to_numpy()\n",
    "sl_arr[:, 1] += vert_shift\n",
    "band_sl_arr = sim.lowest_discreet(sl_arr, 0.1, T0, T0 + delta_T)\n",
    "x, y = band_sl_arr[:, 0], band_sl_arr[:, 1]\n",
    "\n",
    "\n",
    "hlg_curve = [init_radius]\n",
    "diedown_events = []\n",
    "step = x[1] - x[0]\n",
    "for i in range(len(x)):\n",
    "    a, b = hlg_curve[-1] + gr * step, y[i]\n",
    "    if a <= b:\n",
    "        hlg_curve.append(a)\n",
    "    else:\n",
    "        hlg_curve.append(b)\n",
    "        diedown_events.append((x[i], b))\n",
    "\n",
    "diedown_events = np.array(diedown_events)\n",
    "diedown_events = np.vstack([diedown_events, [x[-1], hlg_curve[-1]]])\n",
    "init_time = diedown_events[0, 1] / gr\n",
    "diedown_events[:, 0] = diedown_events[:, 0] - diedown_events[0, 0] + init_time\n",
    "SLin = diedown_events\n",
    "Nc = SLin.shape[0]  # Number of diedown events\n",
    "\n",
    "# Arrays for arc segments\n",
    "# First column:0:BF, 1:MF, 2:TF, 3:TB\n",
    "# Third column: 0:Ox, 1:Oy, 2:radius, 3:1st endpoint, 4:2nd endpoint\n",
    "Arcs = np.zeros((4, Nc, 5))\n",
    "\n",
    "# Diedown point\n",
    "# Second column: 0:Dx, 1:Dy, 2:Angle of normal vector,\n",
    "#               3:Location of diedown (0:BF, 1:MF, 2:TF)\n",
    "DD = np.zeros((Nc, 4))\n",
    "\n",
    "# Surface trace\n",
    "Sfc = np.zeros((100, 5))\n",
    "# Initial shape and diedown\n",
    "R = gr * SLin[0, 0]  # radius\n",
    "Arcs[:, 0, 2] = R\n",
    "Arcs[2, 0, 4] = np.pi / 2\n",
    "Arcs[3, 0, 3] = np.pi / 2\n",
    "Arcs[3, 0, 4] = np.pi / 2\n",
    "\n",
    "DD[0, 0] = np.sqrt((R * R) - SLin[0, 1] * SLin[0, 1])\n",
    "DD[0, 1] = SLin[0, 1]\n",
    "DD[0, 2] = np.arctan2(DD[0, 1], DD[0, 0])\n",
    "DD[0, 3] = 0\n",
    "\n",
    "Sfc[0, :5] = [0, 0, R, DD[0, 2], np.pi / 2]\n",
    "Isf = 0"
   ]
  },
  {
   "cell_type": "code",
   "execution_count": 8,
   "metadata": {},
   "outputs": [
    {
     "name": "stdout",
     "output_type": "stream",
     "text": [
      "7.06 µs ± 30.8 ns per loop (mean ± std. dev. of 7 runs, 100,000 loops each)\n"
     ]
    }
   ],
   "source": [
    "%timeit asim.growth(Nc + 1, gr, Isf, SLin, Arcs, DD, Sfc)"
   ]
  }
 ],
 "metadata": {
  "kernelspec": {
   "display_name": "microatoll_sim",
   "language": "python",
   "name": "python3"
  },
  "language_info": {
   "codemirror_mode": {
    "name": "ipython",
    "version": 3
   },
   "file_extension": ".py",
   "mimetype": "text/x-python",
   "name": "python",
   "nbconvert_exporter": "python",
   "pygments_lexer": "ipython3",
   "version": "3.12.3"
  }
 },
 "nbformat": 4,
 "nbformat_minor": 2
}
