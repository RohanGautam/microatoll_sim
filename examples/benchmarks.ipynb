{
 "cells": [
  {
   "cell_type": "code",
   "execution_count": 1,
   "metadata": {},
   "outputs": [],
   "source": [
    "import numpy as np\n",
    "import time\n",
    "import pandas as pd\n",
    "import matplotlib.pyplot as plt\n",
    "import microatoll_sim.simulator as sim"
   ]
  },
  {
   "cell_type": "markdown",
   "metadata": {},
   "source": [
    "## Setup\n"
   ]
  },
  {
   "cell_type": "code",
   "execution_count": 10,
   "metadata": {},
   "outputs": [],
   "source": [
    "radius = 0.30\n",
    "d = 1.0\n",
    "gr = 15\n",
    "dt = 0.1\n",
    "Tmax = 30\n",
    "T0 = 1980\n",
    "vert_shift = 0.4\n",
    "num_initial_pts = 200\n",
    "\n",
    "## post processing\n",
    "Tmax *= 1.00001\n",
    "d = d / 1e3\n",
    "gr = (gr / 1e3) * dt\n",
    "NT = int(Tmax / dt)\n",
    "\n",
    "sl_df = pd.read_csv(\"./data/SeaLevel.csv\", header=None, names=[\"time\", \"sl\"])\n",
    "sl_arr = sl_df.to_numpy()\n",
    "sl_arr[:, 1] += vert_shift\n",
    "band_sl_arr = sim.lowest_discreet(sl_arr, dt, T0, T0 + Tmax)\n",
    "gr_vec = np.ones(NT) * gr"
   ]
  },
  {
   "cell_type": "markdown",
   "metadata": {},
   "source": [
    "## Core simulator benchmarks\n"
   ]
  },
  {
   "cell_type": "code",
   "execution_count": 4,
   "metadata": {},
   "outputs": [
    {
     "name": "stdout",
     "output_type": "stream",
     "text": [
      "164 ms ± 392 µs per loop (mean ± std. dev. of 7 runs, 10 loops each)\n"
     ]
    }
   ],
   "source": [
    "%timeit sim.coral_growth(radius, num_initial_pts, d, gr_vec, NT, band_sl_arr[:, 1])"
   ]
  },
  {
   "cell_type": "code",
   "execution_count": 5,
   "metadata": {},
   "outputs": [
    {
     "name": "stdout",
     "output_type": "stream",
     "text": [
      "78.4 µs ± 240 ns per loop (mean ± std. dev. of 7 runs, 10,000 loops each)\n"
     ]
    }
   ],
   "source": [
    "%timeit sim.lowest_discreet(sl_arr, dt, T0, T0 + Tmax)"
   ]
  },
  {
   "cell_type": "code",
   "execution_count": 6,
   "metadata": {},
   "outputs": [
    {
     "name": "stdout",
     "output_type": "stream",
     "text": [
      "21.7 µs ± 4.44 µs per loop (mean ± std. dev. of 7 runs, 1 loop each)\n"
     ]
    }
   ],
   "source": [
    "%timeit sim.resample(lines, living_statuses,d)"
   ]
  },
  {
   "cell_type": "code",
   "execution_count": 8,
   "metadata": {},
   "outputs": [
    {
     "name": "stdout",
     "output_type": "stream",
     "text": [
      "2.15 ms ± 17.5 µs per loop (mean ± std. dev. of 7 runs, 100 loops each)\n"
     ]
    }
   ],
   "source": [
    "%timeit sim.kill_loop(lines, living_statuses,gr) "
   ]
  },
  {
   "cell_type": "code",
   "execution_count": 9,
   "metadata": {},
   "outputs": [
    {
     "name": "stdout",
     "output_type": "stream",
     "text": [
      "3.49 µs ± 17.3 ns per loop (mean ± std. dev. of 7 runs, 100,000 loops each)\n"
     ]
    }
   ],
   "source": [
    "%timeit sim.get_pointwise_unit_normals(lines)"
   ]
  }
 ],
 "metadata": {
  "kernelspec": {
   "display_name": "microatoll_sim",
   "language": "python",
   "name": "python3"
  },
  "language_info": {
   "codemirror_mode": {
    "name": "ipython",
    "version": 3
   },
   "file_extension": ".py",
   "mimetype": "text/x-python",
   "name": "python",
   "nbconvert_exporter": "python",
   "pygments_lexer": "ipython3",
   "version": "3.12.3"
  }
 },
 "nbformat": 4,
 "nbformat_minor": 2
}
